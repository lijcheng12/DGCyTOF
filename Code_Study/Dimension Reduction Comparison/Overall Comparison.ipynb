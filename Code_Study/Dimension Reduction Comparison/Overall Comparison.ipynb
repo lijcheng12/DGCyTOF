{
 "cells": [
  {
   "cell_type": "code",
   "execution_count": 1,
   "metadata": {},
   "outputs": [],
   "source": [
    "from IPython.display import Markdown, display\n",
    "import pandas as pd\n",
    "import numpy as np\n",
    "import math\n",
    "import sklearn.preprocessing as preprocessing\n",
    "from sklearn.decomposition import PCA\n",
    "from sklearn.decomposition import FastICA \n",
    "from sklearn.decomposition import FactorAnalysis\n",
    "from sklearn.manifold import MDS\n",
    "from sklearn.decomposition import TruncatedSVD\n",
    "from sklearn.preprocessing import StandardScaler\n",
    "from sklearn.neighbors import NearestNeighbors\n",
    "from sklearn.manifold import TSNE\n",
    "from sklearn.manifold import Isomap\n",
    "import time\n",
    "# import umap\n",
    "\n",
    "def printmd(string):\n",
    "    display(Markdown(string))"
   ]
  },
  {
   "cell_type": "markdown",
   "metadata": {},
   "source": [
    "## Function for Standardizing the Data"
   ]
  },
  {
   "cell_type": "code",
   "execution_count": 2,
   "metadata": {},
   "outputs": [],
   "source": [
    "def preprocessing(data, columns_to_remove):\n",
    "    '''\n",
    "    columns_to_remove --->\n",
    "    13_dim_data - 'label'\n",
    "    32_dim_data - ['Time', 'Cell_length', 'DNA1', 'DNA2', 'Viability', 'file_number', 'event_number', 'individual', 'label']\n",
    "    \n",
    "    '''\n",
    "    data_labeled = data[data.label.notnull()]     # Labeled data (Remove rows without Label)\n",
    "    data_data = data_labeled.drop(columns_to_remove, axis = 1) # labeled data without labels\n",
    "    data_labels = data_labeled['label']\n",
    "    \n",
    "    scaler = StandardScaler()\n",
    "    \n",
    "    std_data_data_array = scaler.fit_transform(data_data)\n",
    "    std_data_data = pd.DataFrame(data= std_data_data_array, columns = data_data.columns).reset_index(drop=True) # standardized data\n",
    "    std_data_labels = pd.DataFrame(data_labels).reset_index(drop=True)  # labels\n",
    "    std_data = pd.concat([std_data_data, std_data_labels], axis=1)    # standardized data with labels\n",
    "    \n",
    "    return std_data_data, std_data_labels, std_data"
   ]
  },
  {
   "cell_type": "markdown",
   "metadata": {},
   "source": [
    "## Functions for different Dimensionality Reduction Techniques"
   ]
  },
  {
   "cell_type": "code",
   "execution_count": 3,
   "metadata": {},
   "outputs": [],
   "source": [
    "def pca(data, n_components):\n",
    "    pca = PCA(n_components = n_components)\n",
    "    pca.fit(data)\n",
    "    data_pca = pca.transform(data)\n",
    "    return pca, data_pca\n",
    "        \n",
    "def ica(data, n_components, max_iter=10000000):\n",
    "    ica = FastICA(n_components = n_components)\n",
    "    data_ica = ica.fit_transform(data)\n",
    "    return data_ica\n",
    "        \n",
    "def fa(data, n_components):\n",
    "    fa = FactorAnalysis(n_components = n_components, max_iter=5000)\n",
    "    data_fa = fa.fit_transform(data)\n",
    "    return fa, data_fa\n",
    "        \n",
    "def svd(data, n_components):\n",
    "    svd = TruncatedSVD(n_components = n_components)\n",
    "    data_svd = svd.fit_transform(data)\n",
    "    return svd, data_svd\n",
    "        \n",
    "def mds(data, n_components):\n",
    "    mds = MDS(n_components = n_components)\n",
    "    data_mds = mds.fit_transform(data)\n",
    "    return data_mds\n",
    "\n",
    "def tsne(data, n_components):\n",
    "    tsne = TSNE(n_components = n_components)\n",
    "    data_tsne = tsne.fit_transform(data)\n",
    "    return data_tsne\n",
    "\n",
    "def u_map(data, n_components):\n",
    "    u_map = umap.UMAP(n_components = n_components)\n",
    "    data_umap = u_map.fit_transform(data)\n",
    "    return data_umap\n",
    "\n",
    "def isomap(data, n_components):\n",
    "    isomap = Isomap(n_components = n_components)\n",
    "    data_isomap = isomap.fit_transform(data)\n",
    "    return data_isomap"
   ]
  },
  {
   "cell_type": "markdown",
   "metadata": {},
   "source": [
    "## Function for calculation of nearest neighbors.\n",
    "### Returns indices of nearest neighbors."
   ]
  },
  {
   "cell_type": "code",
   "execution_count": 4,
   "metadata": {},
   "outputs": [],
   "source": [
    "def nearestneighbors(data, n):\n",
    "    '''\n",
    "    n - number of nearest neighbors\n",
    "    '''\n",
    "    nbrs = NearestNeighbors(n_neighbors= n+1).fit(data)\n",
    "    distances, indices = nbrs.kneighbors(data)\n",
    "    return indices"
   ]
  },
  {
   "cell_type": "markdown",
   "metadata": {},
   "source": [
    "## Function for calculation of fraction of neighbors that belong to same subtype as the cell. \n",
    "### Returns dataframe with 'fraction' column added in original data. "
   ]
  },
  {
   "cell_type": "code",
   "execution_count": 5,
   "metadata": {},
   "outputs": [],
   "source": [
    "def fraction (data, index_array, labels, n):\n",
    "    '''\n",
    "    index_array --> indices of the neighbors of each point.\n",
    "    returns dataframe with fraction of neighbors that belong to same subtype as the cell.\n",
    "    '''\n",
    "    \n",
    "    fraction =[]\n",
    "    for i in range(len(index_array)):\n",
    "        true_label = labels.iloc[index_array[i][0]].label  # True Label is the first element of index_array\n",
    "        neighbors = labels.iloc[index_array[i][1:n+1]]  # array of indices of neighbors\n",
    "        cellwise_fraction_counts = neighbors.label.value_counts(normalize=True)  # fracion of neighbors that belong to same subtype as the cell\n",
    "        if (true_label in cellwise_fraction_counts.index.tolist()): \n",
    "            cellwise_fraction = cellwise_fraction_counts.loc[true_label]\n",
    "        else:\n",
    "            cellwise_fraction = 0\n",
    "        fraction.append(cellwise_fraction)\n",
    "        fraction_df = pd.DataFrame(data = fraction, columns = ['fraction'])\n",
    "        data_with_fraction = pd.concat([data, labels, fraction_df], axis=1)\n",
    "    return data_with_fraction"
   ]
  },
  {
   "cell_type": "markdown",
   "metadata": {},
   "source": [
    "## Function for calculations of nearest neighbors and fractions for reduced dimensional data.\n",
    "### Returns dataframe with 'fraction' column added in reduced dimensional data."
   ]
  },
  {
   "cell_type": "code",
   "execution_count": 6,
   "metadata": {},
   "outputs": [],
   "source": [
    "def reduced_dim_fraction(data_reduced_dim, labels_reduced_dim, n):\n",
    "    '''\n",
    "    input dimensionality reduction data --> eg. data_dim_red = pca(dim_13_data, 2) ----> method(data, n_components)\n",
    "    returns dataframe (data + fraction)\n",
    "    \n",
    "    n - number of nearest neighbors\n",
    "    \n",
    "    labels_reduced_dim --> is same as labels of sample data\n",
    "    '''\n",
    "    \n",
    "    data = pd.DataFrame(data_reduced_dim)\n",
    "    \n",
    "    # nbrs_reduced_dim = NearestNeighbors(n_neighbors=20).fit(data)\n",
    "    # distances_reduced_dim, indices_reduced_dim = nbrs_reduced_dim.kneighbors(data)\n",
    "    \n",
    "    indices_reduced_dim = nearestneighbors(data, n+1)\n",
    "    reduced_dim_with_fraction = fraction(data, indices_reduced_dim, labels_reduced_dim, n)\n",
    "    # reduced_dim_with_fraction = pd.concat([data, labels_reduced_dim, fractions_reduced_dim], axis=1)\n",
    "    return reduced_dim_with_fraction"
   ]
  },
  {
   "cell_type": "markdown",
   "metadata": {},
   "source": [
    "## Function for NPE calculation"
   ]
  },
  {
   "cell_type": "code",
   "execution_count": 7,
   "metadata": {},
   "outputs": [],
   "source": [
    "def NPE(data_fraction, dim_red_fraction, no_of_labels):\n",
    "    '''\n",
    "    Empirical Density Function- No. of observations lesser than or equal to the given value divided by total No. of observations.\n",
    "    \n",
    "    data_fraction = std_dim_13_fraction\n",
    "    dim_red_fraction = data_pca_fraction /data_fa_fraction /data_ica_fraction /data_svd_fraction....\n",
    "    \n",
    "    '''   \n",
    "    delta =[]\n",
    "    for i in range(1, no_of_labels+1):\n",
    "        labelwise_fractions_original = np.array(data_fraction[data_fraction['label'] == i]['fraction'])\n",
    "        labelwise_fractions_dim_red = np.array(dim_red_fraction[dim_red_fraction['label'] == i]['fraction'])\n",
    "\n",
    "        P =[]             # Empirical Density Distribution in original data\n",
    "        for j in labelwise_fractions_original:\n",
    "            EDF_original = labelwise_fractions_original[labelwise_fractions_original < j].size / labelwise_fractions_original.size\n",
    "            P.append(EDF_original)     #EDF - Empirical Density Function\n",
    "        \n",
    "        Q = []            # Empirical Density Distribution in dimension-reduced space\n",
    "        for k in labelwise_fractions_dim_red:\n",
    "            EDF_dim_red = labelwise_fractions_dim_red[labelwise_fractions_dim_red < k].size / labelwise_fractions_dim_red.size\n",
    "            Q.append(EDF_dim_red)\n",
    "            \n",
    "        if P:\n",
    "            delta.append(max(np.subtract(P, Q)))   # delta = sup|P(a)-Q(a)|\n",
    "\n",
    "    return sum(delta)/no_of_labels"
   ]
  },
  {
   "cell_type": "markdown",
   "metadata": {},
   "source": [
    "## Function for Residual Variance Calculations of Factor Analysis (FA)"
   ]
  },
  {
   "cell_type": "code",
   "execution_count": 8,
   "metadata": {},
   "outputs": [],
   "source": [
    "def variance_retained_fa(fa_sample):\n",
    "    variance_explained_without_noise = []\n",
    "    variance_explained_with_noise = []\n",
    "    for fa in fa_sample:\n",
    "        c2 = np.sum(fa.components_ ** 2, axis=1)\n",
    "        total_variance_ = np.sum(c2)\n",
    "        pvars_ = 100 * c2 / total_variance_\n",
    "        pvars_noise_ = 100 * c2 / (total_variance_ + np.sum(fa.noise_variance_))\n",
    "        variance_explained_without_noise.append(pvars_)\n",
    "        variance_explained_with_noise.append(pvars_noise_)\n",
    "    return variance_explained_without_noise, variance_explained_with_noise"
   ]
  },
  {
   "cell_type": "markdown",
   "metadata": {},
   "source": [
    "# 13-Dimensional Levine Dataset"
   ]
  },
  {
   "cell_type": "code",
   "execution_count": 9,
   "metadata": {},
   "outputs": [
    {
     "data": {
      "text/html": [
       "<div>\n",
       "<style>\n",
       "    .dataframe thead tr:only-child th {\n",
       "        text-align: right;\n",
       "    }\n",
       "\n",
       "    .dataframe thead th {\n",
       "        text-align: left;\n",
       "    }\n",
       "\n",
       "    .dataframe tbody tr th {\n",
       "        vertical-align: top;\n",
       "    }\n",
       "</style>\n",
       "<table border=\"1\" class=\"dataframe\">\n",
       "  <thead>\n",
       "    <tr style=\"text-align: right;\">\n",
       "      <th></th>\n",
       "      <th>CD45</th>\n",
       "      <th>CD45RA</th>\n",
       "      <th>CD19</th>\n",
       "      <th>CD11b</th>\n",
       "      <th>CD4</th>\n",
       "      <th>CD8</th>\n",
       "      <th>CD34</th>\n",
       "      <th>CD20</th>\n",
       "      <th>CD33</th>\n",
       "      <th>CD123</th>\n",
       "      <th>CD38</th>\n",
       "      <th>CD90</th>\n",
       "      <th>CD3</th>\n",
       "      <th>label</th>\n",
       "    </tr>\n",
       "  </thead>\n",
       "  <tbody>\n",
       "    <tr>\n",
       "      <th>0</th>\n",
       "      <td>3.138041</td>\n",
       "      <td>1.618552</td>\n",
       "      <td>0.525611</td>\n",
       "      <td>-0.104680</td>\n",
       "      <td>0.811363</td>\n",
       "      <td>1.740672</td>\n",
       "      <td>0.531365</td>\n",
       "      <td>-0.153811</td>\n",
       "      <td>4.291140</td>\n",
       "      <td>2.615224</td>\n",
       "      <td>4.646570</td>\n",
       "      <td>1.849447</td>\n",
       "      <td>1.280036</td>\n",
       "      <td>1.0</td>\n",
       "    </tr>\n",
       "    <tr>\n",
       "      <th>1</th>\n",
       "      <td>3.486871</td>\n",
       "      <td>2.247755</td>\n",
       "      <td>0.309583</td>\n",
       "      <td>0.833397</td>\n",
       "      <td>1.550594</td>\n",
       "      <td>1.829030</td>\n",
       "      <td>-0.033018</td>\n",
       "      <td>0.290684</td>\n",
       "      <td>4.672004</td>\n",
       "      <td>1.532877</td>\n",
       "      <td>4.253449</td>\n",
       "      <td>0.422374</td>\n",
       "      <td>0.066806</td>\n",
       "      <td>1.0</td>\n",
       "    </tr>\n",
       "    <tr>\n",
       "      <th>2</th>\n",
       "      <td>2.145520</td>\n",
       "      <td>0.796811</td>\n",
       "      <td>-0.116073</td>\n",
       "      <td>0.186249</td>\n",
       "      <td>0.529898</td>\n",
       "      <td>0.834876</td>\n",
       "      <td>0.734445</td>\n",
       "      <td>1.590881</td>\n",
       "      <td>4.473149</td>\n",
       "      <td>0.443484</td>\n",
       "      <td>4.511387</td>\n",
       "      <td>0.124615</td>\n",
       "      <td>-2.066902</td>\n",
       "      <td>1.0</td>\n",
       "    </tr>\n",
       "    <tr>\n",
       "      <th>3</th>\n",
       "      <td>4.321869</td>\n",
       "      <td>0.167016</td>\n",
       "      <td>-0.639139</td>\n",
       "      <td>-0.020982</td>\n",
       "      <td>1.814245</td>\n",
       "      <td>-0.094315</td>\n",
       "      <td>1.416341</td>\n",
       "      <td>-0.028213</td>\n",
       "      <td>4.295604</td>\n",
       "      <td>2.546383</td>\n",
       "      <td>5.004100</td>\n",
       "      <td>1.326005</td>\n",
       "      <td>-1.015953</td>\n",
       "      <td>1.0</td>\n",
       "    </tr>\n",
       "    <tr>\n",
       "      <th>4</th>\n",
       "      <td>2.633997</td>\n",
       "      <td>0.714859</td>\n",
       "      <td>-0.173889</td>\n",
       "      <td>-0.042410</td>\n",
       "      <td>0.450911</td>\n",
       "      <td>1.587902</td>\n",
       "      <td>0.731608</td>\n",
       "      <td>0.139234</td>\n",
       "      <td>4.115300</td>\n",
       "      <td>1.579856</td>\n",
       "      <td>5.065479</td>\n",
       "      <td>0.632904</td>\n",
       "      <td>-0.703904</td>\n",
       "      <td>1.0</td>\n",
       "    </tr>\n",
       "  </tbody>\n",
       "</table>\n",
       "</div>"
      ],
      "text/plain": [
       "       CD45    CD45RA      CD19     CD11b       CD4       CD8      CD34  \\\n",
       "0  3.138041  1.618552  0.525611 -0.104680  0.811363  1.740672  0.531365   \n",
       "1  3.486871  2.247755  0.309583  0.833397  1.550594  1.829030 -0.033018   \n",
       "2  2.145520  0.796811 -0.116073  0.186249  0.529898  0.834876  0.734445   \n",
       "3  4.321869  0.167016 -0.639139 -0.020982  1.814245 -0.094315  1.416341   \n",
       "4  2.633997  0.714859 -0.173889 -0.042410  0.450911  1.587902  0.731608   \n",
       "\n",
       "       CD20      CD33     CD123      CD38      CD90       CD3  label  \n",
       "0 -0.153811  4.291140  2.615224  4.646570  1.849447  1.280036    1.0  \n",
       "1  0.290684  4.672004  1.532877  4.253449  0.422374  0.066806    1.0  \n",
       "2  1.590881  4.473149  0.443484  4.511387  0.124615 -2.066902    1.0  \n",
       "3 -0.028213  4.295604  2.546383  5.004100  1.326005 -1.015953    1.0  \n",
       "4  0.139234  4.115300  1.579856  5.065479  0.632904 -0.703904    1.0  "
      ]
     },
     "execution_count": 9,
     "metadata": {},
     "output_type": "execute_result"
    }
   ],
   "source": [
    "dim_13 = pd.read_csv('Levine_13dim.txt', sep = \"\\t\", header=0)\n",
    "dim_13.head()"
   ]
  },
  {
   "cell_type": "code",
   "execution_count": 10,
   "metadata": {},
   "outputs": [],
   "source": [
    "std_dim_13_data, std_dim_13_labels, std_dim_13 = preprocessing(dim_13, 'label')"
   ]
  },
  {
   "cell_type": "code",
   "execution_count": null,
   "metadata": {},
   "outputs": [],
   "source": [
    "sample_1 = std_dim_13.sample(n = 10000,replace=\"False\").reset_index(drop=True)\n",
    "sample_2 = std_dim_13.sample(n = 10000,replace=\"False\").reset_index(drop=True)\n",
    "sample_3 = std_dim_13.sample(n = 10000,replace=\"False\").reset_index(drop=True)"
   ]
  },
  {
   "cell_type": "code",
   "execution_count": 12,
   "metadata": {},
   "outputs": [],
   "source": [
    "sample_1_data = sample_1.drop('label', axis = 1)    # Data without Labels\n",
    "sample_1_labels = pd.DataFrame(sample_1['label'])   # labels\n",
    "\n",
    "sample_2_data = sample_2.drop('label', axis = 1)    # Data without Labels\n",
    "sample_2_labels = pd.DataFrame(sample_2['label'])   # labels\n",
    "\n",
    "sample_3_data = sample_3.drop('label', axis = 1)    # Data without Labels\n",
    "sample_3_labels = pd.DataFrame(sample_3['label'])   # labels"
   ]
  },
  {
   "cell_type": "code",
   "execution_count": 13,
   "metadata": {},
   "outputs": [],
   "source": [
    "indices_sample_1 = nearestneighbors(sample_1_data, 20)\n",
    "indices_sample_2 = nearestneighbors(sample_2_data, 20)\n",
    "indices_sample_3 = nearestneighbors(sample_3_data, 20)"
   ]
  },
  {
   "cell_type": "code",
   "execution_count": 14,
   "metadata": {},
   "outputs": [],
   "source": [
    "sample_1_with_fraction = fraction (sample_1_data, indices_sample_1, sample_1_labels, 20)\n",
    "sample_2_with_fraction = fraction (sample_2_data, indices_sample_2, sample_2_labels, 20)\n",
    "sample_3_with_fraction = fraction (sample_3_data, indices_sample_3, sample_3_labels, 20)"
   ]
  },
  {
   "cell_type": "markdown",
   "metadata": {},
   "source": [
    "# Principal Component Analysis (PCA)"
   ]
  },
  {
   "cell_type": "code",
   "execution_count": 17,
   "metadata": {},
   "outputs": [
    {
     "name": "stdout",
     "output_type": "stream",
     "text": [
      "Computation Time for PCA = 0.01719244321187337\n"
     ]
    }
   ],
   "source": [
    "start_time_pca = time.time()\n",
    "pca_sample_1,sample_1_data_pca = pca(sample_1_data, 2)\n",
    "pca_sample_2,sample_2_data_pca = pca(sample_2_data, 2)\n",
    "pca_sample_3,sample_3_data_pca = pca(sample_3_data, 2)\n",
    "print(\"Computation Time for PCA =\", (time.time() - start_time_pca)/3)"
   ]
  },
  {
   "cell_type": "code",
   "execution_count": 18,
   "metadata": {},
   "outputs": [
    {
     "name": "stdout",
     "output_type": "stream",
     "text": [
      "Variance Retained (PCA)= 40.61%\n"
     ]
    }
   ],
   "source": [
    "print('Variance Retained (PCA)= %.2f%%' % ((sum(pca_sample_1.explained_variance_ratio_)+ \n",
    "                                    sum(pca_sample_2.explained_variance_ratio_)+ \n",
    "                                    sum(pca_sample_3.explained_variance_ratio_))/3 * 100))"
   ]
  },
  {
   "cell_type": "code",
   "execution_count": 19,
   "metadata": {},
   "outputs": [],
   "source": [
    "sample_1_pca_with_fraction = reduced_dim_fraction(sample_1_data_pca, sample_1_labels, 20)\n",
    "sample_2_pca_with_fraction = reduced_dim_fraction(sample_2_data_pca, sample_2_labels, 20)\n",
    "sample_3_pca_with_fraction = reduced_dim_fraction(sample_3_data_pca, sample_3_labels, 20)"
   ]
  },
  {
   "cell_type": "code",
   "execution_count": 20,
   "metadata": {},
   "outputs": [
    {
     "name": "stdout",
     "output_type": "stream",
     "text": [
      "NPE for PCA = 0.626079374768\n"
     ]
    }
   ],
   "source": [
    "NPE_sample_1_pca  = NPE(sample_1_with_fraction, sample_1_pca_with_fraction, 24)\n",
    "NPE_sample_2_pca  = NPE(sample_2_with_fraction, sample_2_pca_with_fraction, 24)\n",
    "NPE_sample_3_pca  = NPE(sample_3_with_fraction, sample_3_pca_with_fraction, 24)\n",
    "print(\"NPE for PCA =\", (NPE_sample_1_pca + NPE_sample_2_pca + NPE_sample_3_pca)/3)"
   ]
  },
  {
   "cell_type": "markdown",
   "metadata": {},
   "source": [
    "# Factor Analysis (FA)"
   ]
  },
  {
   "cell_type": "code",
   "execution_count": 23,
   "metadata": {},
   "outputs": [
    {
     "name": "stdout",
     "output_type": "stream",
     "text": [
      "Computation Time for FA = 3.618231693903605\n"
     ]
    }
   ],
   "source": [
    "start_time_fa = time.time()\n",
    "fa_sample_1,sample_1_data_fa = fa(sample_1_data, 2)\n",
    "fa_sample_2,sample_2_data_fa = fa(sample_2_data, 2)\n",
    "fa_sample_3,sample_3_data_fa = fa(sample_3_data, 2)\n",
    "print(\"Computation Time for FA =\", (time.time() - start_time_fa)/3)"
   ]
  },
  {
   "cell_type": "code",
   "execution_count": 24,
   "metadata": {},
   "outputs": [
    {
     "name": "stdout",
     "output_type": "stream",
     "text": [
      "Variance Explained without Noise = [ 48.73550353  51.26449647]\n",
      "Variance Explained with Noise = [ 16.2531118   17.11463947]\n"
     ]
    }
   ],
   "source": [
    "fa_sample = [fa_sample_1, fa_sample_2, fa_sample_3]\n",
    "variance_explained_without_noise, variance_explained_with_noise = variance_retained_fa(fa_sample)\n",
    "print(\"Variance Explained without Noise =\", sum(variance_explained_without_noise)/3)\n",
    "print(\"Variance Explained with Noise =\", sum(variance_explained_with_noise)/3)"
   ]
  },
  {
   "cell_type": "code",
   "execution_count": 25,
   "metadata": {},
   "outputs": [],
   "source": [
    "sample_1_fa_with_fraction = reduced_dim_fraction(sample_1_data_fa, sample_1_labels, 20)\n",
    "sample_2_fa_with_fraction = reduced_dim_fraction(sample_2_data_fa, sample_2_labels, 20)\n",
    "sample_3_fa_with_fraction = reduced_dim_fraction(sample_3_data_fa, sample_3_labels, 20)"
   ]
  },
  {
   "cell_type": "code",
   "execution_count": 26,
   "metadata": {},
   "outputs": [
    {
     "name": "stdout",
     "output_type": "stream",
     "text": [
      "NPE_fa = 0.633400257251\n"
     ]
    }
   ],
   "source": [
    "NPE_sample_1_fa  = NPE(sample_1_with_fraction, sample_1_fa_with_fraction, 24)\n",
    "NPE_sample_2_fa  = NPE(sample_2_with_fraction, sample_2_fa_with_fraction, 24)\n",
    "NPE_sample_3_fa  = NPE(sample_3_with_fraction, sample_3_fa_with_fraction, 24)\n",
    "print(\"NPE_fa =\", (NPE_sample_1_fa + NPE_sample_2_fa + NPE_sample_3_fa)/3)"
   ]
  },
  {
   "cell_type": "markdown",
   "metadata": {},
   "source": [
    "# Independent Component Analysis (ICA)"
   ]
  },
  {
   "cell_type": "code",
   "execution_count": 28,
   "metadata": {},
   "outputs": [
    {
     "name": "stdout",
     "output_type": "stream",
     "text": [
      "Computation Time for ICA = 0.059857447942097984\n"
     ]
    }
   ],
   "source": [
    "start_time_ica = time.time()\n",
    "sample_1_ica = ica(sample_1_data, 2)\n",
    "sample_2_ica = ica(sample_2_data, 2)\n",
    "sample_3_ica = ica(sample_3_data, 2)\n",
    "print(\"Computation Time for ICA =\", (time.time() - start_time_ica)/3)"
   ]
  },
  {
   "cell_type": "code",
   "execution_count": 29,
   "metadata": {},
   "outputs": [],
   "source": [
    "sample_1_ica_with_fraction = reduced_dim_fraction(sample_1_ica, sample_1_labels, 20)\n",
    "sample_2_ica_with_fraction = reduced_dim_fraction(sample_2_ica, sample_2_labels, 20)\n",
    "sample_3_ica_with_fraction = reduced_dim_fraction(sample_3_ica, sample_3_labels, 20)"
   ]
  },
  {
   "cell_type": "code",
   "execution_count": 30,
   "metadata": {},
   "outputs": [
    {
     "name": "stdout",
     "output_type": "stream",
     "text": [
      "NPE for ICA = 0.624805565683\n"
     ]
    }
   ],
   "source": [
    "NPE_sample_1_ica  = NPE(sample_1_with_fraction, sample_1_ica_with_fraction, 24)\n",
    "NPE_sample_2_ica  = NPE(sample_2_with_fraction, sample_2_ica_with_fraction, 24)\n",
    "NPE_sample_3_ica  = NPE(sample_3_with_fraction, sample_3_ica_with_fraction, 24)\n",
    "print(\"NPE for ICA =\", (NPE_sample_1_ica + NPE_sample_2_ica + NPE_sample_3_ica)/3)"
   ]
  },
  {
   "cell_type": "markdown",
   "metadata": {},
   "source": [
    "# Singular Value Decomposition (SVD)"
   ]
  },
  {
   "cell_type": "code",
   "execution_count": 31,
   "metadata": {},
   "outputs": [
    {
     "name": "stdout",
     "output_type": "stream",
     "text": [
      "Computation Time for SVD = 0.019582748413085938\n"
     ]
    }
   ],
   "source": [
    "start_time_svd = time.time()\n",
    "svd_sample_1,sample_1_data_svd = svd(sample_1_data, 2)\n",
    "svd_sample_2,sample_2_data_svd = svd(sample_2_data, 2)\n",
    "svd_sample_3,sample_3_data_svd = svd(sample_3_data, 2)\n",
    "print(\"Computation Time for SVD =\", (time.time() - start_time_svd)/3)"
   ]
  },
  {
   "cell_type": "code",
   "execution_count": 32,
   "metadata": {},
   "outputs": [
    {
     "name": "stdout",
     "output_type": "stream",
     "text": [
      "Variance Retained (SVD)= 40.61%\n"
     ]
    }
   ],
   "source": [
    "print('Variance Retained (SVD)= %.2f%%' % ((sum(svd_sample_1.explained_variance_ratio_)+ \n",
    "                                    sum(svd_sample_2.explained_variance_ratio_)+ \n",
    "                                    sum(svd_sample_3.explained_variance_ratio_))/3 * 100))"
   ]
  },
  {
   "cell_type": "code",
   "execution_count": 33,
   "metadata": {},
   "outputs": [],
   "source": [
    "sample_1_svd_with_fraction = reduced_dim_fraction(sample_1_data_svd, sample_1_labels, 20)\n",
    "sample_2_svd_with_fraction = reduced_dim_fraction(sample_2_data_svd, sample_2_labels, 20)\n",
    "sample_3_svd_with_fraction = reduced_dim_fraction(sample_3_data_svd, sample_3_labels, 20)"
   ]
  },
  {
   "cell_type": "code",
   "execution_count": 34,
   "metadata": {},
   "outputs": [
    {
     "name": "stdout",
     "output_type": "stream",
     "text": [
      "NPE for SVD = 0.626079374768\n"
     ]
    }
   ],
   "source": [
    "NPE_sample_1_svd  = NPE(sample_1_with_fraction, sample_1_svd_with_fraction, 24)\n",
    "NPE_sample_2_svd  = NPE(sample_2_with_fraction, sample_2_svd_with_fraction, 24)\n",
    "NPE_sample_3_svd  = NPE(sample_3_with_fraction, sample_3_svd_with_fraction, 24)\n",
    "print(\"NPE for SVD =\", (NPE_sample_1_svd + NPE_sample_2_svd + NPE_sample_3_svd)/3)"
   ]
  },
  {
   "cell_type": "markdown",
   "metadata": {},
   "source": [
    "# t-distributed Stochastic Neighbor Embedding (t-SNE)"
   ]
  },
  {
   "cell_type": "code",
   "execution_count": 35,
   "metadata": {},
   "outputs": [
    {
     "name": "stdout",
     "output_type": "stream",
     "text": [
      "Computation Time for t-SNE = 235.31963666280112\n"
     ]
    }
   ],
   "source": [
    "start_time_tsne = time.time()\n",
    "sample_1_tsne = tsne(sample_1_data, 2)\n",
    "sample_2_tsne = tsne(sample_2_data, 2)\n",
    "sample_3_tsne = tsne(sample_3_data, 2)\n",
    "print(\"Computation Time for t-SNE =\", (time.time() - start_time_tsne)/3)"
   ]
  },
  {
   "cell_type": "code",
   "execution_count": 36,
   "metadata": {},
   "outputs": [],
   "source": [
    "sample_1_tsne_with_fraction = reduced_dim_fraction(sample_1_tsne, sample_1_labels, 20)\n",
    "sample_2_tsne_with_fraction = reduced_dim_fraction(sample_2_tsne, sample_2_labels, 20)\n",
    "sample_3_tsne_with_fraction = reduced_dim_fraction(sample_3_tsne, sample_3_labels, 20)"
   ]
  },
  {
   "cell_type": "code",
   "execution_count": 37,
   "metadata": {},
   "outputs": [
    {
     "name": "stdout",
     "output_type": "stream",
     "text": [
      "NPE for t-SNE = 0.422828474498\n"
     ]
    }
   ],
   "source": [
    "NPE_sample_1_tsne  = NPE(sample_1_with_fraction, sample_1_tsne_with_fraction, 24)\n",
    "NPE_sample_2_tsne  = NPE(sample_2_with_fraction, sample_2_tsne_with_fraction, 24)\n",
    "NPE_sample_3_tsne  = NPE(sample_3_with_fraction, sample_3_tsne_with_fraction, 24)\n",
    "print(\"NPE for t-SNE =\", (NPE_sample_1_tsne + NPE_sample_2_tsne + NPE_sample_3_tsne)/3)"
   ]
  },
  {
   "cell_type": "markdown",
   "metadata": {},
   "source": [
    "# Uniform Manifold Approximation and Projection (UMAP)"
   ]
  },
  {
   "cell_type": "code",
   "execution_count": null,
   "metadata": {},
   "outputs": [],
   "source": [
    "import sys\n",
    "!{sys.executable} -m pip install umap-learn"
   ]
  },
  {
   "cell_type": "code",
   "execution_count": null,
   "metadata": {},
   "outputs": [],
   "source": [
    "start_time_umap = time.time()\n",
    "sample_1_umap = u_map(sample_1_data, 2)\n",
    "sample_2_umap = u_map(sample_2_data, 2)\n",
    "sample_3_umap = u_map(sample_3_data, 2)\n",
    "print(\"Computation Time for UMAP =\", (time.time() - start_time_umap)/3)"
   ]
  },
  {
   "cell_type": "code",
   "execution_count": 44,
   "metadata": {},
   "outputs": [],
   "source": [
    "sample_1_umap_with_fraction = reduced_dim_fraction(sample_1_umap, sample_1_labels, 20)\n",
    "sample_2_umap_with_fraction = reduced_dim_fraction(sample_2_umap, sample_2_labels, 20)\n",
    "sample_3_umap_with_fraction = reduced_dim_fraction(sample_3_umap, sample_3_labels, 20)"
   ]
  },
  {
   "cell_type": "code",
   "execution_count": 45,
   "metadata": {},
   "outputs": [
    {
     "name": "stdout",
     "output_type": "stream",
     "text": [
      "NPE for UMAP = 0.4767775696408303\n"
     ]
    }
   ],
   "source": [
    "NPE_sample_1_umap  = NPE(sample_1_with_fraction, sample_1_umap_with_fraction, 24)\n",
    "NPE_sample_2_umap  = NPE(sample_2_with_fraction, sample_2_umap_with_fraction, 24)\n",
    "NPE_sample_3_umap  = NPE(sample_3_with_fraction, sample_3_umap_with_fraction, 24)\n",
    "print(\"NPE for UMAP =\", (NPE_sample_1_umap + NPE_sample_2_umap + NPE_sample_3_umap)/3)"
   ]
  },
  {
   "cell_type": "markdown",
   "metadata": {},
   "source": [
    "# Isomap"
   ]
  },
  {
   "cell_type": "code",
   "execution_count": 38,
   "metadata": {},
   "outputs": [
    {
     "name": "stdout",
     "output_type": "stream",
     "text": [
      "Computation Time for Isomap = 59.891643603642784\n"
     ]
    }
   ],
   "source": [
    "start_time_isomap = time.time()\n",
    "sample_1_isomap = isomap(sample_1_data, 2)\n",
    "sample_2_isomap = isomap(sample_2_data, 2)\n",
    "sample_3_isomap = isomap(sample_3_data, 2)\n",
    "print(\"Computation Time for Isomap =\", (time.time() - start_time_isomap)/3)"
   ]
  },
  {
   "cell_type": "code",
   "execution_count": 39,
   "metadata": {},
   "outputs": [],
   "source": [
    "sample_1_isomap_with_fraction = reduced_dim_fraction(sample_1_isomap, sample_1_labels, 20)\n",
    "sample_2_isomap_with_fraction = reduced_dim_fraction(sample_2_isomap, sample_2_labels, 20)\n",
    "sample_3_isomap_with_fraction = reduced_dim_fraction(sample_3_isomap, sample_3_labels, 20)"
   ]
  },
  {
   "cell_type": "code",
   "execution_count": 40,
   "metadata": {},
   "outputs": [
    {
     "name": "stdout",
     "output_type": "stream",
     "text": [
      "NPE for Isomap = 0.596220640042\n"
     ]
    }
   ],
   "source": [
    "NPE_sample_1_isomap  = NPE(sample_1_with_fraction, sample_1_isomap_with_fraction, 24)\n",
    "NPE_sample_2_isomap  = NPE(sample_2_with_fraction, sample_2_isomap_with_fraction, 24)\n",
    "NPE_sample_3_isomap  = NPE(sample_3_with_fraction, sample_3_isomap_with_fraction, 24)\n",
    "print(\"NPE for Isomap =\", (NPE_sample_1_isomap + NPE_sample_2_isomap + NPE_sample_3_isomap)/3)"
   ]
  },
  {
   "cell_type": "markdown",
   "metadata": {},
   "source": [
    "# MultiDimensional Scaling (MDS)"
   ]
  },
  {
   "cell_type": "code",
   "execution_count": 41,
   "metadata": {},
   "outputs": [
    {
     "name": "stdout",
     "output_type": "stream",
     "text": [
      "Computation Time for MSD = 2984.7267775535583\n"
     ]
    }
   ],
   "source": [
    "start_time_mds = time.time()\n",
    "sample_1_mds = mds(sample_1_data, 2)\n",
    "sample_2_mds = mds(sample_2_data, 2)\n",
    "sample_3_mds = mds(sample_3_data, 2)\n",
    "print(\"Computation Time for MSD =\", (time.time() - start_time_mds)/3)"
   ]
  },
  {
   "cell_type": "code",
   "execution_count": 42,
   "metadata": {},
   "outputs": [],
   "source": [
    "sample_1_mds_with_fraction = reduced_dim_fraction(sample_1_mds, sample_1_labels, 20)\n",
    "sample_2_mds_with_fraction = reduced_dim_fraction(sample_2_mds, sample_2_labels, 20)\n",
    "sample_3_mds_with_fraction = reduced_dim_fraction(sample_3_mds, sample_3_labels, 20)"
   ]
  },
  {
   "cell_type": "code",
   "execution_count": 43,
   "metadata": {},
   "outputs": [
    {
     "name": "stdout",
     "output_type": "stream",
     "text": [
      "NPE for MDS = 0.600846387766\n"
     ]
    }
   ],
   "source": [
    "NPE_sample_1_mds  = NPE(sample_1_with_fraction, sample_1_mds_with_fraction, 24)\n",
    "NPE_sample_2_mds  = NPE(sample_2_with_fraction, sample_2_mds_with_fraction, 24)\n",
    "NPE_sample_3_mds  = NPE(sample_3_with_fraction, sample_3_mds_with_fraction, 24)\n",
    "print(\"NPE for MDS =\", (NPE_sample_1_mds + NPE_sample_2_mds + NPE_sample_3_mds)/3)"
   ]
  },
  {
   "cell_type": "code",
   "execution_count": null,
   "metadata": {},
   "outputs": [],
   "source": []
  },
  {
   "cell_type": "code",
   "execution_count": null,
   "metadata": {},
   "outputs": [],
   "source": []
  },
  {
   "cell_type": "code",
   "execution_count": null,
   "metadata": {},
   "outputs": [],
   "source": []
  },
  {
   "cell_type": "markdown",
   "metadata": {},
   "source": [
    "# 32-Dimensional Levine Dataset"
   ]
  },
  {
   "cell_type": "code",
   "execution_count": 9,
   "metadata": {},
   "outputs": [
    {
     "data": {
      "text/html": [
       "<div>\n",
       "<style>\n",
       "    .dataframe thead tr:only-child th {\n",
       "        text-align: right;\n",
       "    }\n",
       "\n",
       "    .dataframe thead th {\n",
       "        text-align: left;\n",
       "    }\n",
       "\n",
       "    .dataframe tbody tr th {\n",
       "        vertical-align: top;\n",
       "    }\n",
       "</style>\n",
       "<table border=\"1\" class=\"dataframe\">\n",
       "  <thead>\n",
       "    <tr style=\"text-align: right;\">\n",
       "      <th></th>\n",
       "      <th>Time</th>\n",
       "      <th>Cell_length</th>\n",
       "      <th>DNA1</th>\n",
       "      <th>DNA2</th>\n",
       "      <th>CD45RA</th>\n",
       "      <th>CD133</th>\n",
       "      <th>CD19</th>\n",
       "      <th>CD22</th>\n",
       "      <th>CD11b</th>\n",
       "      <th>CD4</th>\n",
       "      <th>...</th>\n",
       "      <th>CD117</th>\n",
       "      <th>CD49d</th>\n",
       "      <th>HLA-DR</th>\n",
       "      <th>CD64</th>\n",
       "      <th>CD41</th>\n",
       "      <th>Viability</th>\n",
       "      <th>file_number</th>\n",
       "      <th>event_number</th>\n",
       "      <th>label</th>\n",
       "      <th>individual</th>\n",
       "    </tr>\n",
       "  </thead>\n",
       "  <tbody>\n",
       "    <tr>\n",
       "      <th>0</th>\n",
       "      <td>1024</td>\n",
       "      <td>22</td>\n",
       "      <td>4.391057</td>\n",
       "      <td>4.617262</td>\n",
       "      <td>0.162691</td>\n",
       "      <td>-0.029585</td>\n",
       "      <td>-0.006696</td>\n",
       "      <td>0.066388</td>\n",
       "      <td>-0.009184</td>\n",
       "      <td>0.363602</td>\n",
       "      <td>...</td>\n",
       "      <td>0.053050</td>\n",
       "      <td>0.853505</td>\n",
       "      <td>1.664480</td>\n",
       "      <td>-0.005376</td>\n",
       "      <td>-0.001961</td>\n",
       "      <td>0.648429</td>\n",
       "      <td>3.627711</td>\n",
       "      <td>307.0</td>\n",
       "      <td>1.0</td>\n",
       "      <td>1.0</td>\n",
       "    </tr>\n",
       "    <tr>\n",
       "      <th>1</th>\n",
       "      <td>1024</td>\n",
       "      <td>35</td>\n",
       "      <td>4.340481</td>\n",
       "      <td>4.816692</td>\n",
       "      <td>0.701348</td>\n",
       "      <td>-0.038280</td>\n",
       "      <td>-0.016654</td>\n",
       "      <td>0.074409</td>\n",
       "      <td>0.808031</td>\n",
       "      <td>-0.035424</td>\n",
       "      <td>...</td>\n",
       "      <td>0.089660</td>\n",
       "      <td>0.197818</td>\n",
       "      <td>0.491592</td>\n",
       "      <td>0.144814</td>\n",
       "      <td>0.868014</td>\n",
       "      <td>0.561384</td>\n",
       "      <td>3.627711</td>\n",
       "      <td>545.0</td>\n",
       "      <td>1.0</td>\n",
       "      <td>1.0</td>\n",
       "    </tr>\n",
       "    <tr>\n",
       "      <th>2</th>\n",
       "      <td>1024</td>\n",
       "      <td>32</td>\n",
       "      <td>3.838727</td>\n",
       "      <td>4.386369</td>\n",
       "      <td>0.603568</td>\n",
       "      <td>-0.032216</td>\n",
       "      <td>0.073855</td>\n",
       "      <td>-0.042977</td>\n",
       "      <td>-0.001881</td>\n",
       "      <td>-0.008781</td>\n",
       "      <td>...</td>\n",
       "      <td>0.046222</td>\n",
       "      <td>2.586670</td>\n",
       "      <td>1.308337</td>\n",
       "      <td>-0.010961</td>\n",
       "      <td>-0.010413</td>\n",
       "      <td>0.643337</td>\n",
       "      <td>3.627711</td>\n",
       "      <td>1024.0</td>\n",
       "      <td>1.0</td>\n",
       "      <td>1.0</td>\n",
       "    </tr>\n",
       "    <tr>\n",
       "      <th>3</th>\n",
       "      <td>1024</td>\n",
       "      <td>29</td>\n",
       "      <td>4.255805</td>\n",
       "      <td>4.830048</td>\n",
       "      <td>0.433747</td>\n",
       "      <td>-0.027611</td>\n",
       "      <td>-0.017661</td>\n",
       "      <td>-0.044072</td>\n",
       "      <td>0.733698</td>\n",
       "      <td>-0.019066</td>\n",
       "      <td>...</td>\n",
       "      <td>0.066470</td>\n",
       "      <td>1.338669</td>\n",
       "      <td>0.140523</td>\n",
       "      <td>-0.013449</td>\n",
       "      <td>-0.026039</td>\n",
       "      <td>-0.026523</td>\n",
       "      <td>3.627711</td>\n",
       "      <td>1024.0</td>\n",
       "      <td>1.0</td>\n",
       "      <td>1.0</td>\n",
       "    </tr>\n",
       "    <tr>\n",
       "      <th>4</th>\n",
       "      <td>1024</td>\n",
       "      <td>25</td>\n",
       "      <td>3.976909</td>\n",
       "      <td>4.506433</td>\n",
       "      <td>-0.008809</td>\n",
       "      <td>-0.030297</td>\n",
       "      <td>0.080423</td>\n",
       "      <td>0.495791</td>\n",
       "      <td>1.107627</td>\n",
       "      <td>0.552746</td>\n",
       "      <td>...</td>\n",
       "      <td>-0.006223</td>\n",
       "      <td>0.180924</td>\n",
       "      <td>0.197332</td>\n",
       "      <td>0.076167</td>\n",
       "      <td>-0.040488</td>\n",
       "      <td>0.283287</td>\n",
       "      <td>3.627711</td>\n",
       "      <td>1024.0</td>\n",
       "      <td>1.0</td>\n",
       "      <td>1.0</td>\n",
       "    </tr>\n",
       "  </tbody>\n",
       "</table>\n",
       "<p>5 rows × 41 columns</p>\n",
       "</div>"
      ],
      "text/plain": [
       "   Time  Cell_length      DNA1      DNA2    CD45RA     CD133      CD19  \\\n",
       "0  1024           22  4.391057  4.617262  0.162691 -0.029585 -0.006696   \n",
       "1  1024           35  4.340481  4.816692  0.701348 -0.038280 -0.016654   \n",
       "2  1024           32  3.838727  4.386369  0.603568 -0.032216  0.073855   \n",
       "3  1024           29  4.255805  4.830048  0.433747 -0.027611 -0.017661   \n",
       "4  1024           25  3.976909  4.506433 -0.008809 -0.030297  0.080423   \n",
       "\n",
       "       CD22     CD11b       CD4     ...         CD117     CD49d    HLA-DR  \\\n",
       "0  0.066388 -0.009184  0.363602     ...      0.053050  0.853505  1.664480   \n",
       "1  0.074409  0.808031 -0.035424     ...      0.089660  0.197818  0.491592   \n",
       "2 -0.042977 -0.001881 -0.008781     ...      0.046222  2.586670  1.308337   \n",
       "3 -0.044072  0.733698 -0.019066     ...      0.066470  1.338669  0.140523   \n",
       "4  0.495791  1.107627  0.552746     ...     -0.006223  0.180924  0.197332   \n",
       "\n",
       "       CD64      CD41  Viability  file_number  event_number  label  individual  \n",
       "0 -0.005376 -0.001961   0.648429     3.627711         307.0    1.0         1.0  \n",
       "1  0.144814  0.868014   0.561384     3.627711         545.0    1.0         1.0  \n",
       "2 -0.010961 -0.010413   0.643337     3.627711        1024.0    1.0         1.0  \n",
       "3 -0.013449 -0.026039  -0.026523     3.627711        1024.0    1.0         1.0  \n",
       "4  0.076167 -0.040488   0.283287     3.627711        1024.0    1.0         1.0  \n",
       "\n",
       "[5 rows x 41 columns]"
      ]
     },
     "execution_count": 9,
     "metadata": {},
     "output_type": "execute_result"
    }
   ],
   "source": [
    "dim_32 = pd.read_csv('Levine_32dim.txt', sep = \"\\t\", header=0)\n",
    "dim_32.head()"
   ]
  },
  {
   "cell_type": "code",
   "execution_count": 10,
   "metadata": {},
   "outputs": [],
   "source": [
    "std_dim_32_data, std_dim_32_labels, std_dim_32 = preprocessing(dim_32, ['Time', 'Cell_length', 'DNA1', 'DNA2', 'Viability', 'file_number', 'event_number', 'individual', 'label'])"
   ]
  },
  {
   "cell_type": "code",
   "execution_count": 11,
   "metadata": {},
   "outputs": [],
   "source": [
    "sample_4 = std_dim_32.sample(n = 10000,replace=\"False\").reset_index(drop=True)\n",
    "sample_5 = std_dim_32.sample(n = 10000,replace=\"False\").reset_index(drop=True)\n",
    "sample_6 = std_dim_32.sample(n = 10000,replace=\"False\").reset_index(drop=True)"
   ]
  },
  {
   "cell_type": "code",
   "execution_count": 12,
   "metadata": {},
   "outputs": [],
   "source": [
    "sample_4_data = sample_4.drop('label', axis = 1)    # Data without Labels\n",
    "sample_4_labels = pd.DataFrame(sample_4['label'])   # labels\n",
    "\n",
    "sample_5_data = sample_5.drop('label', axis = 1)    # Data without Labels\n",
    "sample_5_labels = pd.DataFrame(sample_5['label'])   # labels\n",
    "\n",
    "sample_6_data = sample_6.drop('label', axis = 1)    # Data without Labels\n",
    "sample_6_labels = pd.DataFrame(sample_6['label'])   # labels"
   ]
  },
  {
   "cell_type": "code",
   "execution_count": 13,
   "metadata": {},
   "outputs": [],
   "source": [
    "indices_sample_4 = nearestneighbors(sample_4_data, 20)\n",
    "indices_sample_5 = nearestneighbors(sample_5_data, 20)\n",
    "indices_sample_6 = nearestneighbors(sample_6_data, 20)"
   ]
  },
  {
   "cell_type": "code",
   "execution_count": 14,
   "metadata": {},
   "outputs": [],
   "source": [
    "sample_4_with_fraction = fraction (sample_4_data, indices_sample_4, sample_4_labels, 20)\n",
    "sample_5_with_fraction = fraction (sample_5_data, indices_sample_5, sample_5_labels, 20)\n",
    "sample_6_with_fraction = fraction (sample_6_data, indices_sample_6, sample_6_labels, 20)"
   ]
  },
  {
   "cell_type": "markdown",
   "metadata": {},
   "source": [
    "# Principal Component Analysis (PCA)"
   ]
  },
  {
   "cell_type": "code",
   "execution_count": 16,
   "metadata": {},
   "outputs": [
    {
     "name": "stdout",
     "output_type": "stream",
     "text": [
      "Computation Time for PCA = 0.025269826253255207\n"
     ]
    }
   ],
   "source": [
    "start_time_pca = time.time()\n",
    "pca_sample_4,sample_4_data_pca = pca(sample_4_data, 2)\n",
    "pca_sample_5,sample_5_data_pca = pca(sample_5_data, 2)\n",
    "pca_sample_6,sample_6_data_pca = pca(sample_6_data, 2)\n",
    "print(\"Computation Time for PCA =\", (time.time() - start_time_pca)/3)"
   ]
  },
  {
   "cell_type": "code",
   "execution_count": 17,
   "metadata": {},
   "outputs": [
    {
     "name": "stdout",
     "output_type": "stream",
     "text": [
      "Variance Retained (PCA)= 31.03%\n"
     ]
    }
   ],
   "source": [
    "print('Variance Retained (PCA)= %.2f%%' % ((sum(pca_sample_4.explained_variance_ratio_)+ \n",
    "                                    sum(pca_sample_5.explained_variance_ratio_)+ \n",
    "                                    sum(pca_sample_6.explained_variance_ratio_))/3 * 100))"
   ]
  },
  {
   "cell_type": "code",
   "execution_count": 18,
   "metadata": {},
   "outputs": [],
   "source": [
    "sample_4_pca_with_fraction = reduced_dim_fraction(sample_4_data_pca, sample_4_labels, 20)\n",
    "sample_5_pca_with_fraction = reduced_dim_fraction(sample_5_data_pca, sample_5_labels, 20)\n",
    "sample_6_pca_with_fraction = reduced_dim_fraction(sample_6_data_pca, sample_6_labels, 20)"
   ]
  },
  {
   "cell_type": "code",
   "execution_count": 19,
   "metadata": {},
   "outputs": [
    {
     "name": "stdout",
     "output_type": "stream",
     "text": [
      "NPE for PCA = 0.535617880499\n"
     ]
    }
   ],
   "source": [
    "NPE_sample_4_pca  = NPE(sample_4_with_fraction, sample_4_pca_with_fraction, 14)\n",
    "NPE_sample_5_pca  = NPE(sample_5_with_fraction, sample_5_pca_with_fraction, 14)\n",
    "NPE_sample_6_pca  = NPE(sample_6_with_fraction, sample_6_pca_with_fraction, 14)\n",
    "print(\"NPE for PCA =\", (NPE_sample_4_pca + NPE_sample_5_pca + NPE_sample_6_pca)/3)"
   ]
  },
  {
   "cell_type": "markdown",
   "metadata": {},
   "source": [
    "# Factor Analysis (FA)"
   ]
  },
  {
   "cell_type": "code",
   "execution_count": 20,
   "metadata": {},
   "outputs": [
    {
     "name": "stdout",
     "output_type": "stream",
     "text": [
      "Computation Time for FA = 0.2081762154897054\n"
     ]
    }
   ],
   "source": [
    "start_time_fa = time.time()\n",
    "fa_sample_4,sample_4_data_fa = fa(sample_4_data, 2)\n",
    "fa_sample_5,sample_5_data_fa = fa(sample_5_data, 2)\n",
    "fa_sample_6,sample_6_data_fa = fa(sample_6_data, 2)\n",
    "print(\"Computation Time for FA =\", (time.time() - start_time_fa)/3)"
   ]
  },
  {
   "cell_type": "code",
   "execution_count": 21,
   "metadata": {},
   "outputs": [
    {
     "name": "stdout",
     "output_type": "stream",
     "text": [
      "Variance Explained without Noise = [ 57.25960526  42.74039474]\n",
      "Variance Explained with Noise = [ 15.85829715  11.83728431]\n"
     ]
    }
   ],
   "source": [
    "fa_sample = [fa_sample_4, fa_sample_5, fa_sample_6]\n",
    "variance_explained_without_noise, variance_explained_with_noise = variance_retained_fa(fa_sample)\n",
    "print(\"Variance Explained without Noise =\", sum(variance_explained_without_noise)/3)\n",
    "print(\"Variance Explained with Noise =\", sum(variance_explained_with_noise)/3)"
   ]
  },
  {
   "cell_type": "code",
   "execution_count": 22,
   "metadata": {},
   "outputs": [],
   "source": [
    "sample_4_fa_with_fraction = reduced_dim_fraction(sample_4_data_fa, sample_4_labels, 20)\n",
    "sample_5_fa_with_fraction = reduced_dim_fraction(sample_5_data_fa, sample_5_labels, 20)\n",
    "sample_6_fa_with_fraction = reduced_dim_fraction(sample_6_data_fa, sample_6_labels, 20)"
   ]
  },
  {
   "cell_type": "code",
   "execution_count": 23,
   "metadata": {},
   "outputs": [
    {
     "name": "stdout",
     "output_type": "stream",
     "text": [
      "NPE_fa = 0.525437124357\n"
     ]
    }
   ],
   "source": [
    "NPE_sample_4_fa  = NPE(sample_4_with_fraction, sample_4_fa_with_fraction, 14)\n",
    "NPE_sample_5_fa  = NPE(sample_5_with_fraction, sample_5_fa_with_fraction, 14)\n",
    "NPE_sample_6_fa  = NPE(sample_6_with_fraction, sample_6_fa_with_fraction, 14)\n",
    "print(\"NPE_fa =\", (NPE_sample_4_fa + NPE_sample_5_fa + NPE_sample_6_fa)/3)"
   ]
  },
  {
   "cell_type": "markdown",
   "metadata": {},
   "source": [
    "# Independent Component Analysis (ICA)"
   ]
  },
  {
   "cell_type": "code",
   "execution_count": 24,
   "metadata": {},
   "outputs": [
    {
     "name": "stdout",
     "output_type": "stream",
     "text": [
      "Computation Time for ICA = 0.05396040280659994\n"
     ]
    }
   ],
   "source": [
    "start_time_ica = time.time()\n",
    "sample_4_ica = ica(sample_4_data, 2)\n",
    "sample_5_ica = ica(sample_5_data, 2)\n",
    "sample_6_ica = ica(sample_6_data, 2)\n",
    "print(\"Computation Time for ICA =\", (time.time() - start_time_ica)/3)"
   ]
  },
  {
   "cell_type": "code",
   "execution_count": 25,
   "metadata": {},
   "outputs": [],
   "source": [
    "sample_4_ica_with_fraction = reduced_dim_fraction(sample_4_ica, sample_4_labels, 20)\n",
    "sample_5_ica_with_fraction = reduced_dim_fraction(sample_5_ica, sample_5_labels, 20)\n",
    "sample_6_ica_with_fraction = reduced_dim_fraction(sample_6_ica, sample_6_labels, 20)"
   ]
  },
  {
   "cell_type": "code",
   "execution_count": 26,
   "metadata": {},
   "outputs": [
    {
     "name": "stdout",
     "output_type": "stream",
     "text": [
      "NPE for ICA = 0.534539310622\n"
     ]
    }
   ],
   "source": [
    "NPE_sample_4_ica  = NPE(sample_4_with_fraction, sample_4_ica_with_fraction, 14)\n",
    "NPE_sample_5_ica  = NPE(sample_5_with_fraction, sample_5_ica_with_fraction, 14)\n",
    "NPE_sample_6_ica  = NPE(sample_6_with_fraction, sample_6_ica_with_fraction, 14)\n",
    "print(\"NPE for ICA =\", (NPE_sample_4_ica + NPE_sample_5_ica + NPE_sample_6_ica)/3)"
   ]
  },
  {
   "cell_type": "markdown",
   "metadata": {},
   "source": [
    "# Singular Value Decomposition (SVD)"
   ]
  },
  {
   "cell_type": "code",
   "execution_count": 27,
   "metadata": {},
   "outputs": [
    {
     "name": "stdout",
     "output_type": "stream",
     "text": [
      "Computation Time for SVD = 0.021091461181640625\n"
     ]
    }
   ],
   "source": [
    "start_time_svd = time.time()\n",
    "svd_sample_4,sample_4_data_svd = svd(sample_4_data, 2)\n",
    "svd_sample_5,sample_5_data_svd = svd(sample_5_data, 2)\n",
    "svd_sample_6,sample_6_data_svd = svd(sample_6_data, 2)\n",
    "print(\"Computation Time for SVD =\", (time.time() - start_time_svd)/3)"
   ]
  },
  {
   "cell_type": "code",
   "execution_count": 28,
   "metadata": {},
   "outputs": [
    {
     "name": "stdout",
     "output_type": "stream",
     "text": [
      "Variance Retained (SVD)= 31.03%\n"
     ]
    }
   ],
   "source": [
    "print('Variance Retained (SVD)= %.2f%%' % ((sum(svd_sample_4.explained_variance_ratio_)+ \n",
    "                                    sum(svd_sample_5.explained_variance_ratio_)+ \n",
    "                                    sum(svd_sample_6.explained_variance_ratio_))/3 * 100))"
   ]
  },
  {
   "cell_type": "code",
   "execution_count": 29,
   "metadata": {},
   "outputs": [],
   "source": [
    "sample_4_svd_with_fraction = reduced_dim_fraction(sample_4_data_svd, sample_4_labels, 20)\n",
    "sample_5_svd_with_fraction = reduced_dim_fraction(sample_5_data_svd, sample_5_labels, 20)\n",
    "sample_6_svd_with_fraction = reduced_dim_fraction(sample_6_data_svd, sample_6_labels, 20)"
   ]
  },
  {
   "cell_type": "code",
   "execution_count": 30,
   "metadata": {},
   "outputs": [
    {
     "name": "stdout",
     "output_type": "stream",
     "text": [
      "NPE for SVD = 0.535543242494\n"
     ]
    }
   ],
   "source": [
    "NPE_sample_4_svd  = NPE(sample_4_with_fraction, sample_4_svd_with_fraction, 14)\n",
    "NPE_sample_5_svd  = NPE(sample_5_with_fraction, sample_5_svd_with_fraction, 14)\n",
    "NPE_sample_6_svd  = NPE(sample_6_with_fraction, sample_6_svd_with_fraction, 14)\n",
    "print(\"NPE for SVD =\", (NPE_sample_4_svd + NPE_sample_5_svd + NPE_sample_6_svd)/3)"
   ]
  },
  {
   "cell_type": "markdown",
   "metadata": {},
   "source": [
    "# t-distributed Stochastic Neighbor Embedding (t-SNE)"
   ]
  },
  {
   "cell_type": "code",
   "execution_count": 31,
   "metadata": {},
   "outputs": [
    {
     "name": "stdout",
     "output_type": "stream",
     "text": [
      "Computation Time for t-SNE = 243.33090289433798\n"
     ]
    }
   ],
   "source": [
    "start_time_tsne = time.time()\n",
    "sample_4_tsne = tsne(sample_4_data, 2)\n",
    "sample_5_tsne = tsne(sample_5_data, 2)\n",
    "sample_6_tsne = tsne(sample_6_data, 2)\n",
    "print(\"Computation Time for t-SNE =\", (time.time() - start_time_tsne)/3)"
   ]
  },
  {
   "cell_type": "code",
   "execution_count": 32,
   "metadata": {},
   "outputs": [],
   "source": [
    "sample_4_tsne_with_fraction = reduced_dim_fraction(sample_4_tsne, sample_4_labels, 20)\n",
    "sample_5_tsne_with_fraction = reduced_dim_fraction(sample_5_tsne, sample_5_labels, 20)\n",
    "sample_6_tsne_with_fraction = reduced_dim_fraction(sample_6_tsne, sample_6_labels, 20)"
   ]
  },
  {
   "cell_type": "code",
   "execution_count": 33,
   "metadata": {},
   "outputs": [
    {
     "name": "stdout",
     "output_type": "stream",
     "text": [
      "NPE for t-SNE = 0.393244774183\n"
     ]
    }
   ],
   "source": [
    "NPE_sample_4_tsne  = NPE(sample_4_with_fraction, sample_4_tsne_with_fraction, 14)\n",
    "NPE_sample_5_tsne  = NPE(sample_5_with_fraction, sample_5_tsne_with_fraction, 14)\n",
    "NPE_sample_6_tsne  = NPE(sample_6_with_fraction, sample_6_tsne_with_fraction, 14)\n",
    "print(\"NPE for t-SNE =\", (NPE_sample_4_tsne + NPE_sample_5_tsne + NPE_sample_6_tsne)/3)"
   ]
  },
  {
   "cell_type": "markdown",
   "metadata": {},
   "source": [
    "# Uniform Manifold Approximation and Projection (UMAP)"
   ]
  },
  {
   "cell_type": "code",
   "execution_count": 70,
   "metadata": {},
   "outputs": [
    {
     "name": "stdout",
     "output_type": "stream",
     "text": [
      "Computation Time for UMAP = 18.06250063578288\n"
     ]
    }
   ],
   "source": [
    "start_time_umap = time.time()\n",
    "sample_4_umap = u_map(sample_4_data, 2)\n",
    "sample_5_umap = u_map(sample_5_data, 2)\n",
    "sample_6_umap = u_map(sample_6_data, 2)\n",
    "print(\"Computation Time for UMAP =\", (time.time() - start_time_umap)/3)"
   ]
  },
  {
   "cell_type": "code",
   "execution_count": 71,
   "metadata": {},
   "outputs": [],
   "source": [
    "sample_4_umap_with_fraction = reduced_dim_fraction(sample_4_umap, sample_4_labels, 20)\n",
    "sample_5_umap_with_fraction = reduced_dim_fraction(sample_5_umap, sample_5_labels, 20)\n",
    "sample_6_umap_with_fraction = reduced_dim_fraction(sample_6_umap, sample_6_labels, 20)"
   ]
  },
  {
   "cell_type": "code",
   "execution_count": 72,
   "metadata": {},
   "outputs": [
    {
     "name": "stdout",
     "output_type": "stream",
     "text": [
      "NPE for UMAP = 0.5494555777733211\n"
     ]
    }
   ],
   "source": [
    "NPE_sample_4_umap  = NPE(sample_4_with_fraction, sample_4_umap_with_fraction, 14)\n",
    "NPE_sample_5_umap  = NPE(sample_5_with_fraction, sample_5_umap_with_fraction, 14)\n",
    "NPE_sample_6_umap  = NPE(sample_6_with_fraction, sample_6_umap_with_fraction, 14)\n",
    "print(\"NPE for UMAP =\", (NPE_sample_4_umap + NPE_sample_5_umap + NPE_sample_6_umap)/3)"
   ]
  },
  {
   "cell_type": "markdown",
   "metadata": {},
   "source": [
    "# Isomap"
   ]
  },
  {
   "cell_type": "code",
   "execution_count": 34,
   "metadata": {},
   "outputs": [
    {
     "name": "stdout",
     "output_type": "stream",
     "text": [
      "Computation Time for Isomap = 65.50609143575032\n"
     ]
    }
   ],
   "source": [
    "start_time_isomap = time.time()\n",
    "sample_4_isomap = isomap(sample_4_data, 2)\n",
    "sample_5_isomap = isomap(sample_5_data, 2)\n",
    "sample_6_isomap = isomap(sample_6_data, 2)\n",
    "print(\"Computation Time for Isomap =\", (time.time() - start_time_isomap)/3)"
   ]
  },
  {
   "cell_type": "code",
   "execution_count": 35,
   "metadata": {},
   "outputs": [],
   "source": [
    "sample_4_isomap_with_fraction = reduced_dim_fraction(sample_4_isomap, sample_4_labels, 20)\n",
    "sample_5_isomap_with_fraction = reduced_dim_fraction(sample_5_isomap, sample_5_labels, 20)\n",
    "sample_6_isomap_with_fraction = reduced_dim_fraction(sample_6_isomap, sample_6_labels, 20)"
   ]
  },
  {
   "cell_type": "code",
   "execution_count": 36,
   "metadata": {},
   "outputs": [
    {
     "name": "stdout",
     "output_type": "stream",
     "text": [
      "NPE for Isomap = 0.46377900475\n"
     ]
    }
   ],
   "source": [
    "NPE_sample_4_isomap  = NPE(sample_4_with_fraction, sample_4_isomap_with_fraction, 14)\n",
    "NPE_sample_5_isomap  = NPE(sample_5_with_fraction, sample_5_isomap_with_fraction, 14)\n",
    "NPE_sample_6_isomap  = NPE(sample_6_with_fraction, sample_6_isomap_with_fraction, 14)\n",
    "print(\"NPE for Isomap =\", (NPE_sample_4_isomap + NPE_sample_5_isomap + NPE_sample_6_isomap)/3)"
   ]
  },
  {
   "cell_type": "markdown",
   "metadata": {},
   "source": [
    "# MultiDimensional Scaling (MDS)"
   ]
  },
  {
   "cell_type": "code",
   "execution_count": 37,
   "metadata": {},
   "outputs": [
    {
     "name": "stdout",
     "output_type": "stream",
     "text": [
      "Computation Time for MDS = 2992.5078539053598\n"
     ]
    }
   ],
   "source": [
    "start_time_mds = time.time()\n",
    "sample_4_mds = mds(sample_4_data, 2)\n",
    "sample_5_mds = mds(sample_5_data, 2)\n",
    "sample_6_mds = mds(sample_6_data, 2)\n",
    "print(\"Computation Time for MDS =\", (time.time() - start_time_mds)/3)"
   ]
  },
  {
   "cell_type": "code",
   "execution_count": 38,
   "metadata": {},
   "outputs": [],
   "source": [
    "sample_4_mds_with_fraction = reduced_dim_fraction(sample_4_mds, sample_4_labels, 20)\n",
    "sample_5_mds_with_fraction = reduced_dim_fraction(sample_5_mds, sample_5_labels, 20)\n",
    "sample_6_mds_with_fraction = reduced_dim_fraction(sample_6_mds, sample_6_labels, 20)"
   ]
  },
  {
   "cell_type": "code",
   "execution_count": 39,
   "metadata": {},
   "outputs": [
    {
     "name": "stdout",
     "output_type": "stream",
     "text": [
      "NPE for MDS = 0.529860442356\n"
     ]
    }
   ],
   "source": [
    "NPE_sample_4_mds  = NPE(sample_4_with_fraction, sample_4_mds_with_fraction, 14)\n",
    "NPE_sample_5_mds  = NPE(sample_5_with_fraction, sample_5_mds_with_fraction, 14)\n",
    "NPE_sample_6_mds  = NPE(sample_6_with_fraction, sample_6_mds_with_fraction, 14)\n",
    "print(\"NPE for MDS =\", (NPE_sample_4_mds + NPE_sample_5_mds + NPE_sample_6_mds)/3)"
   ]
  },
  {
   "cell_type": "code",
   "execution_count": null,
   "metadata": {},
   "outputs": [],
   "source": []
  },
  {
   "cell_type": "code",
   "execution_count": null,
   "metadata": {},
   "outputs": [],
   "source": []
  }
 ],
 "metadata": {
  "kernelspec": {
   "display_name": "Python 3.6 [python/3.6 ]",
   "language": "python",
   "name": "sys_python36"
  },
  "language_info": {
   "codemirror_mode": {
    "name": "ipython",
    "version": 3
   },
   "file_extension": ".py",
   "mimetype": "text/x-python",
   "name": "python",
   "nbconvert_exporter": "python",
   "pygments_lexer": "ipython3",
   "version": "3.6.3"
  }
 },
 "nbformat": 4,
 "nbformat_minor": 2
}
